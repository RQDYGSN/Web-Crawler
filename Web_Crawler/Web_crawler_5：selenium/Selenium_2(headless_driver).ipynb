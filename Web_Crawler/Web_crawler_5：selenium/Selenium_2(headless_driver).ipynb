{
 "cells": [
  {
   "cell_type": "markdown",
   "metadata": {},
   "source": [
    "# 无头网页驱动"
   ]
  },
  {
   "cell_type": "markdown",
   "metadata": {},
   "source": [
    "# 1"
   ]
  },
  {
   "cell_type": "code",
   "execution_count": 1,
   "metadata": {},
   "outputs": [
    {
     "name": "stderr",
     "output_type": "stream",
     "text": [
      "G:\\Anaconda\\lib\\site-packages\\ipykernel_launcher.py:7: DeprecationWarning: use options instead of chrome_options\n",
      "  import sys\n"
     ]
    },
    {
     "name": "stdout",
     "output_type": "stream",
     "text": [
      "打开浏览器\n",
      "百度一下，你就知道\n",
      "关闭\n",
      "测试完成\n"
     ]
    }
   ],
   "source": [
    "#测试程序：\n",
    "# -*- coding:utf-8 -*-\n",
    "from selenium import webdriver\n",
    "\n",
    "option = webdriver.ChromeOptions()\n",
    "option.add_argument('headless')\n",
    "driver = webdriver.Chrome(chrome_options=option)\n",
    "# driver = webdriver.Chrome()\n",
    "# driver = webdriver.PhantomJS()\n",
    "driver.get('https://www.baidu.com/')\n",
    "print('打开浏览器')\n",
    "print(driver.title)\n",
    "driver.find_element_by_id('kw').send_keys('测试')\n",
    "print('关闭')\n",
    "driver.quit()\n",
    "print('测试完成')"
   ]
  },
  {
   "cell_type": "markdown",
   "metadata": {},
   "source": [
    "# 2"
   ]
  },
  {
   "cell_type": "code",
   "execution_count": 41,
   "metadata": {},
   "outputs": [],
   "source": [
    "# initial set\n",
    "from selenium import webdriver\n",
    "from selenium.webdriver.common.keys import Keys\n",
    "from selenium.webdriver.common.action_chains import ActionChains\n",
    "import time"
   ]
  },
  {
   "cell_type": "code",
   "execution_count": 51,
   "metadata": {},
   "outputs": [],
   "source": [
    "# option = webdriver.ChromeOptions\n",
    "# option.add_argument('headless')\n",
    "# driver = webdriver.Chrome(options=option)\n",
    "\n",
    "driver = webdriver.Chrome()\n",
    "driver.get('https://w.seu.edu.cn/')\n",
    "# time.sleep(1)\n",
    "\n",
    "# enter the quit\n",
    "driver.maximize_window()\n",
    "driver.find_element_by_tag_name('input').click()\n",
    "# ActionChains(driver).click()\n",
    "\n",
    "# make sure quit\n",
    "for i in driver.find_elements_by_tag_name('input'):\n",
    "    if i.get_attribute('value') == '确认':\n",
    "        sure = i\n",
    "        break\n",
    "sure.click()"
   ]
  },
  {
   "cell_type": "code",
   "execution_count": 26,
   "metadata": {},
   "outputs": [],
   "source": [
    "count = 0\n",
    "for i in driver.find_elements_by_tag_name('input'):\n",
    "    if i.get_attribute('type') == 'text':\n",
    "        id_text = i\n",
    "        count += 1\n",
    "    if i.get_attribute('type') == 'password':\n",
    "        password = i\n",
    "        count += 1\n",
    "    if i.get_attribute('type') == 'submit':\n",
    "        submit = i\n",
    "        count += 1    \n",
    "    if count == 3:\n",
    "        break\n",
    "\n",
    "# input id and password\n",
    "id_text.send_keys(Keys.CONTROL, 'a')\n",
    "id_text.send_keys(Keys.BACK_SPACE)\n",
    "password.send_keys(Keys.CONTROL, 'a')\n",
    "password.send_keys(Keys.BACK_SPACE)\n",
    "\n",
    "id_text.send_keys('220190768')\n",
    "password.send_keys('q5832490')\n",
    "\n",
    "# make sure to submit\n",
    "submit.click()\n",
    "\n",
    "# get back information\n",
    "if driver.title == '东南大学':\n",
    "    driver.close()\n",
    "    print('Submit successfully!')\n",
    "else:\n",
    "    driver.close()\n",
    "    get_internet()"
   ]
  },
  {
   "cell_type": "code",
   "execution_count": 69,
   "metadata": {},
   "outputs": [],
   "source": [
    "def get_internet():\n",
    "#     option = webdriver.ChromeOptions\n",
    "#     option.add_argument('headless')\n",
    "#     driver = webdriver.Chrome(options=option)\n",
    "#     driver.get('https://w.seu.edu.cn/')\n",
    "    \n",
    "    driver = webdriver.Chrome()\n",
    "    driver.get('https://w.seu.edu.cn/')\n",
    "    driver.maximize_window()\n",
    "    driver.maximize_window\n",
    "    \n",
    "    count = 0\n",
    "    for i in driver.find_elements_by_tag_name('input'):\n",
    "        if i.get_attribute('type') == 'text':\n",
    "            id_text = i\n",
    "            count += 1\n",
    "        if i.get_attribute('type') == 'password':\n",
    "            password = i\n",
    "            count += 1\n",
    "        if i.get_attribute('type') == 'submit':\n",
    "            submit = i\n",
    "            count += 1    \n",
    "        if count == 3:\n",
    "            break\n",
    "\n",
    "    # input id and password\n",
    "    id_text.send_keys(Keys.CONTROL, 'a')\n",
    "    id_text.send_keys(Keys.BACK_SPACE)\n",
    "    password.send_keys(Keys.CONTROL, 'a')\n",
    "    password.send_keys(Keys.BACK_SPACE)\n",
    "\n",
    "    id_text.send_keys('220190768')\n",
    "    password.send_keys('q5832490')\n",
    "\n",
    "    # make sure to submit\n",
    "    submit.click()"
   ]
  },
  {
   "cell_type": "code",
   "execution_count": 72,
   "metadata": {},
   "outputs": [],
   "source": [
    "def main():\n",
    "    fail_num = 0\n",
    "    \n",
    "#     option = webdriver.ChromeOptions\n",
    "#     option.add_argument('headless')\n",
    "#     driver = webdriver.Chrome(options=option)\n",
    "#     driver.get('https://w.seu.edu.cn/')\n",
    "    \n",
    "    driver = webdriver.Chrome()\n",
    "    driver.get('https://w.seu.edu.cn/')\n",
    "    driver.maximize_window()\n",
    "    \n",
    "    if driver.title == '东南大学':\n",
    "        driver.close()\n",
    "        print('网络正常连接中！')\n",
    "    elif driver.title == '上网登录页':\n",
    "        print('网络断开，正在尝试重新连接...')\n",
    "        \n",
    "        # seek input windows\n",
    "        count = 0\n",
    "        for i in driver.find_elements_by_tag_name('input'):\n",
    "            if i.get_attribute('type') == 'text':\n",
    "                id_text = i\n",
    "                count += 1\n",
    "            if i.get_attribute('type') == 'password':\n",
    "                password = i\n",
    "                count += 1\n",
    "            if i.get_attribute('type') == 'submit':\n",
    "                submit = i\n",
    "                count += 1    \n",
    "            if count == 3:\n",
    "                break\n",
    "\n",
    "        # input id and password\n",
    "        id_text.send_keys(Keys.CONTROL, 'a')\n",
    "        id_text.send_keys(Keys.BACK_SPACE)\n",
    "        password.send_keys(Keys.CONTROL, 'a')\n",
    "        password.send_keys(Keys.BACK_SPACE)\n",
    "\n",
    "        id_text.send_keys('220190768')\n",
    "        password.send_keys('q5832490')\n",
    "\n",
    "        # make sure to submit\n",
    "        submit.click() \n",
    "        fail_num += 1\n",
    "        time.sleep(10)\n",
    "        \n",
    "        while fail_num<=3:\n",
    "            if driver.title: \n",
    "                if driver.title == '东南大学': \n",
    "                    print('连接成功！可以正常上网。')\n",
    "                    return\n",
    "            else:\n",
    "                driver.close()\n",
    "                get_internet()\n",
    "                fail_num += 1\n",
    "        print('连接次数超过3次，依旧连接失败！')\n",
    "    else:\n",
    "        print('执行异常。')\n",
    "        \n",
    "    return\n",
    "    "
   ]
  },
  {
   "cell_type": "code",
   "execution_count": 73,
   "metadata": {},
   "outputs": [
    {
     "name": "stdout",
     "output_type": "stream",
     "text": [
      "网络断开，正在尝试重新连接...\n"
     ]
    },
    {
     "ename": "NoSuchWindowException",
     "evalue": "Message: no such window: target window already closed\nfrom unknown error: web view not found\n  (Session info: chrome=78.0.3904.70)\n",
     "output_type": "error",
     "traceback": [
      "\u001b[1;31m---------------------------------------------------------------------------\u001b[0m",
      "\u001b[1;31mNoSuchWindowException\u001b[0m                     Traceback (most recent call last)",
      "\u001b[1;32m<ipython-input-73-263240bbee7e>\u001b[0m in \u001b[0;36m<module>\u001b[1;34m\u001b[0m\n\u001b[1;32m----> 1\u001b[1;33m \u001b[0mmain\u001b[0m\u001b[1;33m(\u001b[0m\u001b[1;33m)\u001b[0m\u001b[1;33m\u001b[0m\u001b[1;33m\u001b[0m\u001b[0m\n\u001b[0m",
      "\u001b[1;32m<ipython-input-72-b4a429e4dcb6>\u001b[0m in \u001b[0;36mmain\u001b[1;34m()\u001b[0m\n\u001b[0;32m     47\u001b[0m \u001b[1;33m\u001b[0m\u001b[0m\n\u001b[0;32m     48\u001b[0m         \u001b[1;32mwhile\u001b[0m \u001b[0mfail_num\u001b[0m\u001b[1;33m<=\u001b[0m\u001b[1;36m3\u001b[0m\u001b[1;33m:\u001b[0m\u001b[1;33m\u001b[0m\u001b[1;33m\u001b[0m\u001b[0m\n\u001b[1;32m---> 49\u001b[1;33m             \u001b[1;32mif\u001b[0m \u001b[0mdriver\u001b[0m\u001b[1;33m.\u001b[0m\u001b[0mtitle\u001b[0m\u001b[1;33m:\u001b[0m\u001b[1;33m\u001b[0m\u001b[1;33m\u001b[0m\u001b[0m\n\u001b[0m\u001b[0;32m     50\u001b[0m                 \u001b[1;32mif\u001b[0m \u001b[0mdriver\u001b[0m\u001b[1;33m.\u001b[0m\u001b[0mtitle\u001b[0m \u001b[1;33m==\u001b[0m \u001b[1;34m'东南大学'\u001b[0m\u001b[1;33m:\u001b[0m\u001b[1;33m\u001b[0m\u001b[1;33m\u001b[0m\u001b[0m\n\u001b[0;32m     51\u001b[0m                     \u001b[0mprint\u001b[0m\u001b[1;33m(\u001b[0m\u001b[1;34m'连接成功！可以正常上网。'\u001b[0m\u001b[1;33m)\u001b[0m\u001b[1;33m\u001b[0m\u001b[1;33m\u001b[0m\u001b[0m\n",
      "\u001b[1;32mG:\\Anaconda\\lib\\site-packages\\selenium\\webdriver\\remote\\webdriver.py\u001b[0m in \u001b[0;36mtitle\u001b[1;34m(self)\u001b[0m\n\u001b[0;32m    340\u001b[0m             \u001b[0mtitle\u001b[0m \u001b[1;33m=\u001b[0m \u001b[0mdriver\u001b[0m\u001b[1;33m.\u001b[0m\u001b[0mtitle\u001b[0m\u001b[1;33m\u001b[0m\u001b[1;33m\u001b[0m\u001b[0m\n\u001b[0;32m    341\u001b[0m         \"\"\"\n\u001b[1;32m--> 342\u001b[1;33m         \u001b[0mresp\u001b[0m \u001b[1;33m=\u001b[0m \u001b[0mself\u001b[0m\u001b[1;33m.\u001b[0m\u001b[0mexecute\u001b[0m\u001b[1;33m(\u001b[0m\u001b[0mCommand\u001b[0m\u001b[1;33m.\u001b[0m\u001b[0mGET_TITLE\u001b[0m\u001b[1;33m)\u001b[0m\u001b[1;33m\u001b[0m\u001b[1;33m\u001b[0m\u001b[0m\n\u001b[0m\u001b[0;32m    343\u001b[0m         \u001b[1;32mreturn\u001b[0m \u001b[0mresp\u001b[0m\u001b[1;33m[\u001b[0m\u001b[1;34m'value'\u001b[0m\u001b[1;33m]\u001b[0m \u001b[1;32mif\u001b[0m \u001b[0mresp\u001b[0m\u001b[1;33m[\u001b[0m\u001b[1;34m'value'\u001b[0m\u001b[1;33m]\u001b[0m \u001b[1;32mis\u001b[0m \u001b[1;32mnot\u001b[0m \u001b[1;32mNone\u001b[0m \u001b[1;32melse\u001b[0m \u001b[1;34m\"\"\u001b[0m\u001b[1;33m\u001b[0m\u001b[1;33m\u001b[0m\u001b[0m\n\u001b[0;32m    344\u001b[0m \u001b[1;33m\u001b[0m\u001b[0m\n",
      "\u001b[1;32mG:\\Anaconda\\lib\\site-packages\\selenium\\webdriver\\remote\\webdriver.py\u001b[0m in \u001b[0;36mexecute\u001b[1;34m(self, driver_command, params)\u001b[0m\n\u001b[0;32m    319\u001b[0m         \u001b[0mresponse\u001b[0m \u001b[1;33m=\u001b[0m \u001b[0mself\u001b[0m\u001b[1;33m.\u001b[0m\u001b[0mcommand_executor\u001b[0m\u001b[1;33m.\u001b[0m\u001b[0mexecute\u001b[0m\u001b[1;33m(\u001b[0m\u001b[0mdriver_command\u001b[0m\u001b[1;33m,\u001b[0m \u001b[0mparams\u001b[0m\u001b[1;33m)\u001b[0m\u001b[1;33m\u001b[0m\u001b[1;33m\u001b[0m\u001b[0m\n\u001b[0;32m    320\u001b[0m         \u001b[1;32mif\u001b[0m \u001b[0mresponse\u001b[0m\u001b[1;33m:\u001b[0m\u001b[1;33m\u001b[0m\u001b[1;33m\u001b[0m\u001b[0m\n\u001b[1;32m--> 321\u001b[1;33m             \u001b[0mself\u001b[0m\u001b[1;33m.\u001b[0m\u001b[0merror_handler\u001b[0m\u001b[1;33m.\u001b[0m\u001b[0mcheck_response\u001b[0m\u001b[1;33m(\u001b[0m\u001b[0mresponse\u001b[0m\u001b[1;33m)\u001b[0m\u001b[1;33m\u001b[0m\u001b[1;33m\u001b[0m\u001b[0m\n\u001b[0m\u001b[0;32m    322\u001b[0m             response['value'] = self._unwrap_value(\n\u001b[0;32m    323\u001b[0m                 response.get('value', None))\n",
      "\u001b[1;32mG:\\Anaconda\\lib\\site-packages\\selenium\\webdriver\\remote\\errorhandler.py\u001b[0m in \u001b[0;36mcheck_response\u001b[1;34m(self, response)\u001b[0m\n\u001b[0;32m    240\u001b[0m                 \u001b[0malert_text\u001b[0m \u001b[1;33m=\u001b[0m \u001b[0mvalue\u001b[0m\u001b[1;33m[\u001b[0m\u001b[1;34m'alert'\u001b[0m\u001b[1;33m]\u001b[0m\u001b[1;33m.\u001b[0m\u001b[0mget\u001b[0m\u001b[1;33m(\u001b[0m\u001b[1;34m'text'\u001b[0m\u001b[1;33m)\u001b[0m\u001b[1;33m\u001b[0m\u001b[1;33m\u001b[0m\u001b[0m\n\u001b[0;32m    241\u001b[0m             \u001b[1;32mraise\u001b[0m \u001b[0mexception_class\u001b[0m\u001b[1;33m(\u001b[0m\u001b[0mmessage\u001b[0m\u001b[1;33m,\u001b[0m \u001b[0mscreen\u001b[0m\u001b[1;33m,\u001b[0m \u001b[0mstacktrace\u001b[0m\u001b[1;33m,\u001b[0m \u001b[0malert_text\u001b[0m\u001b[1;33m)\u001b[0m\u001b[1;33m\u001b[0m\u001b[1;33m\u001b[0m\u001b[0m\n\u001b[1;32m--> 242\u001b[1;33m         \u001b[1;32mraise\u001b[0m \u001b[0mexception_class\u001b[0m\u001b[1;33m(\u001b[0m\u001b[0mmessage\u001b[0m\u001b[1;33m,\u001b[0m \u001b[0mscreen\u001b[0m\u001b[1;33m,\u001b[0m \u001b[0mstacktrace\u001b[0m\u001b[1;33m)\u001b[0m\u001b[1;33m\u001b[0m\u001b[1;33m\u001b[0m\u001b[0m\n\u001b[0m\u001b[0;32m    243\u001b[0m \u001b[1;33m\u001b[0m\u001b[0m\n\u001b[0;32m    244\u001b[0m     \u001b[1;32mdef\u001b[0m \u001b[0m_value_or_default\u001b[0m\u001b[1;33m(\u001b[0m\u001b[0mself\u001b[0m\u001b[1;33m,\u001b[0m \u001b[0mobj\u001b[0m\u001b[1;33m,\u001b[0m \u001b[0mkey\u001b[0m\u001b[1;33m,\u001b[0m \u001b[0mdefault\u001b[0m\u001b[1;33m)\u001b[0m\u001b[1;33m:\u001b[0m\u001b[1;33m\u001b[0m\u001b[1;33m\u001b[0m\u001b[0m\n",
      "\u001b[1;31mNoSuchWindowException\u001b[0m: Message: no such window: target window already closed\nfrom unknown error: web view not found\n  (Session info: chrome=78.0.3904.70)\n"
     ]
    }
   ],
   "source": [
    "main()"
   ]
  },
  {
   "cell_type": "markdown",
   "metadata": {},
   "source": [
    "# 3"
   ]
  },
  {
   "cell_type": "code",
   "execution_count": 74,
   "metadata": {},
   "outputs": [],
   "source": [
    "import requests\n",
    "import re"
   ]
  },
  {
   "cell_type": "code",
   "execution_count": 113,
   "metadata": {
    "scrolled": true
   },
   "outputs": [],
   "source": [
    "req1 = requests.get(\"http://202.119.25.2\")\n",
    "pattern = re.compile(\"lip='(.*?)'\") # “？”最短匹配\n",
    "comp = re.compile(r\"(([01]?\\d?\\d|2[0-4]\\d|25[0-5]\\d)\\.){3}([01]?\\d?\\d|2[0-4]\\d|25[0-5]\\d)\")\n",
    "result = pattern.findall(req1.text)\n",
    "result = comp.search(result[0])\n",
    "# print(req1.text)\n",
    "if result: \n",
    "    ip = result.group(0)"
   ]
  },
  {
   "cell_type": "code",
   "execution_count": 114,
   "metadata": {},
   "outputs": [
    {
     "data": {
      "text/plain": [
       "'121.248.51.115'"
      ]
     },
     "execution_count": 114,
     "metadata": {},
     "output_type": "execute_result"
    }
   ],
   "source": [
    "ip"
   ]
  },
  {
   "cell_type": "code",
   "execution_count": 85,
   "metadata": {},
   "outputs": [
    {
     "data": {
      "text/plain": [
       "'认证成功'"
      ]
     },
     "execution_count": 85,
     "metadata": {},
     "output_type": "execute_result"
    }
   ],
   "source": [
    "b\"\\u8ba4\\u8bc1\\u6210\\u529f\".decode('unicode-escape')"
   ]
  },
  {
   "cell_type": "code",
   "execution_count": 87,
   "metadata": {},
   "outputs": [
    {
     "data": {
      "text/plain": [
       "'在线数据为空'"
      ]
     },
     "execution_count": 87,
     "metadata": {},
     "output_type": "execute_result"
    }
   ],
   "source": [
    "b\"\\u5728\\u7ebf\\u6570\\u636e\\u4e3a\\u7a7a\".decode('unicode-escape')"
   ]
  },
  {
   "cell_type": "code",
   "execution_count": 116,
   "metadata": {},
   "outputs": [
    {
     "name": "stdout",
     "output_type": "stream",
     "text": [
      "<!DOCTYPE html PUBLIC \"-//W3C//DTD XHTML 1.0 Strict//EN\" \"http://www.w3.org/TR/xhtml1/DTD/xhtml1-strict.dtd\">\r\n",
      "<html xmlns=\"http://www.w3.org/1999/xhtml\">\r\n",
      "<head>\r\n",
      "<meta http-equiv=\"Content-Type\" content=\"text/html; charset=gb2312\">\r\n",
      "<meta id=\"viewport\" name=\"viewport\" content=\"target-densitydpi=device-dpi,width=640px,user-scalable=yes\">\r\n",
      "<meta name=\"renderer\" content=\"webkit\" />\r\n",
      "<meta http-equiv=\"X-UA-Compatible\" content=\"IE=9; IE=8; IE=7; IE=EDGE\">\r\n",
      "<title>注销页</title>\r\n",
      "<!--Dr.COMWebLoginID_1.htm-->\r\n",
      "<link rel=\"stylesheet\" type=\"text/css\" href=\"b80.css\" />\r\n",
      "<script type=\"text/javascript\">\r\n",
      "time='10624     ';flow='2138055   ';fsele=1;fee='50000     ';xsele=0;xip='000.000.000.000.';\r\n",
      "cvid=0,pvid=0;      \r\n",
      "pwm=1;v6af=0;v6df=0;uid='220190768';pwd='';v46m=4;v4ip='121.248.51.115';v6ip='2001:da8:1002:6001::18e9';// ='192.168.100.100';v6ip='0000:0000:0000:0000:0000:0000:0000:0000';////\r\n",
      "zxopt=1;//1为普通，2\\4\\5为专线不可用，6\\9为专线可用 --1011.628(64)以上内核才支持\r\n",
      "oltime=4294967295;olflow=18833408;lip='121.248.51.115';stime='2019-11-08 12:53:24';etime='2019-11-08 13:30:06';   \r\n",
      "NID='刘清贺';                                              ///\r\n",
      "olmm=1;olm5=0;//20170821新加\r\n",
      "eport=1,eclass=1;///\r\n",
      "\r\n",
      "flow0=flow%1024;flow1=flow-flow0;flow0=flow0*1000;flow0=flow0-flow0%1024;fee1=fee-fee%100;\r\n",
      "flow3='.';\r\n",
      "\r\n",
      "/** 哆点参数 start */\r\n",
      "//1.基本参数\r\n",
      "portalid='';//门户ID\r\n",
      "portalname='';//门户名称\r\n",
      "//2.可选参数\r\n",
      "portalver='';//门户版本\r\n",
      "serialno='';//序列号\r\n",
      "logourl='';//门户logo\r\n",
      "bannerurl='';//横幅广告\r\n",
      "welcome='';//欢迎词\r\n",
      "businessurl='';//业务接口\r\n",
      "//3.旁路参数\r\n",
      "authexenable='0';//是否启用旁路扩展模式\r\n",
      "authtype=1;//登录协议\r\n",
      "authloginIP='';//登录IP\r\n",
      "authloginport=801;//登录端口\r\n",
      "authloginpath='/eportal/?c=ACSetting&a=Login';//登录路径\r\n",
      "authloginparam=''; //登录参数\r\n",
      "authuserfield='DDDDD';//账号节点\r\n",
      "authpassfield='upass';//密码节点\r\n",
      "terminalidentity=1;//终端识别标识 先配置成填写\r\n",
      "authlogouttype=1;//注销协议\r\n",
      "authlogoutIP='';//注销IP\r\n",
      "authlogoutport=80;//注销端口\r\n",
      "authlogoutpath='/eportal/?c=ACSetting&a=Logout&ver=1.0';//注销路径\r\n",
      "authlogoutparam='';//注销参数\r\n",
      "authlogoutpost='';//注销post参数\r\n",
      "querydelay=0;//登录后延时查询网络状态\r\n",
      "querytype=1;//状态查询协议\r\n",
      "queryIP='';//状态查询IP\t\r\n",
      "queryport=80;//状态查询端口\r\n",
      "querypost='';//状态查询post参数\r\n",
      "querypath='/eportal/?c=ACSetting&a=Query';//状态查询路径\r\n",
      "queryparam='';//状态查询参数\r\n",
      "authsuccess='Dr.COMWebLoginID_3.htm';//登录成功标志\r\n",
      "authfail='Dr.COMWebLoginID_2.htm';//登录失败标志\r\n",
      "isquery=0;\r\n",
      "authhost='';\r\n",
      "authoffpost='';\r\n",
      "charset='gb2312';//页面编码\r\n",
      "exparam=0;//扩展标志位\r\n",
      "//4.运营商选择\r\n",
      "carrier='{\"yys\":{\"title\":\"服务类型\",\"mode\":\"radiobutton\",\"data\":[{\"id\":\"1\",\"name\":\"校园用户\",\"suffix\":\"@xyw\"},{\"id\":\"2\",\"name\":\"校园电信\",\"suffix\":\"@dx\"},{\"id\":\"3\",\"name\":\"校园联通\",\"suffix\":\"@lt\"},{\"id\":\"4\",\"name\":\"校园其他\",\"suffix\":\"\"}],\"defaultID\":\"1\"}}';//运营商选择\r\n",
      "//5.限制非哆点客户端登陆\r\n",
      "//把原先Dr.COMWebLoginID_ 改成: Dr.COM1.0WebLoginID_\r\n",
      "/** 哆点参数 end */\r\n",
      "</script>\r\n",
      "<script>\r\n",
      "var fileVersion=\"1571821237671\";\r\n",
      "/* 基本处理 */\r\n",
      "document.write('<script src=\"a41.js?version='+fileVersion+'\"><\\/script>');\r\n",
      "</script>\r\n",
      "</head>\r\n",
      "\r\n",
      "<body>\r\n",
      "</body>\r\n",
      "<script type=\"text/javascript\">\r\n",
      "\tpage.run(1);\r\n",
      "</script>\r\n",
      "</html>\r\n",
      "\r\n",
      "\n"
     ]
    }
   ],
   "source": [
    "req2 = requests.get(\"https://w.seu.edu.cn/\")\n",
    "print(req2.text)"
   ]
  },
  {
   "cell_type": "markdown",
   "metadata": {},
   "source": [
    "# 4 Compared to HTML traffic"
   ]
  },
  {
   "cell_type": "code",
   "execution_count": 144,
   "metadata": {},
   "outputs": [
    {
     "name": "stdout",
     "output_type": "stream",
     "text": [
      "studentid:220190768\n",
      "passwd:q5832490\n",
      "Connection sucessful!\n"
     ]
    }
   ],
   "source": [
    "import requests\n",
    "import re\n",
    "\n",
    "userName = input(\"studentid:\")\n",
    "password = input(\"passwd:\")\n",
    "\n",
    "\n",
    "try:\n",
    "    # req1 = requests.get(\"http://202.119.25.2\")\n",
    "    req1 = requests.get(\"https://w.seu.edu.cn/\")\n",
    "    pattern = re.compile(\"v46ip='(.*?)'\")  # “？”最短匹配\n",
    "    comp = re.compile(r\"(([01]?\\d?\\d|2[0-4]\\d|25[0-5]\\d)\\.){3}([01]?\\d?\\d|2[0-4]\\d|25[0-5]\\d)\")\n",
    "    result = pattern.findall(req1.text)\n",
    "    result2 = comp.search(result[0])\n",
    "    # print(req1.text)\n",
    "    ip = result2.group(0)\n",
    "except Exception as e:\n",
    "    print(\"exit\")\n",
    "    exit(-1)\n",
    "\n",
    "\n",
    "# 提取url主干\n",
    "Host = \"https://w.seu.edu.cn:801\" ######################################?????????????????????????????????\n",
    "# Host = \"https://w.seu.edu.cn\"\n",
    "\n",
    "# 先把webforms存下来\n",
    "dataForm = {\n",
    "    'c':'Portal',\n",
    "    'a':'login',\n",
    "    'callback':'dr1003',\n",
    "    'login_method':'1',\n",
    "    'jsVersion':'3.3.2',\n",
    "    'v':'4755'\n",
    "}\n",
    "\n",
    "# 再把headers写下来\n",
    "headers = {\n",
    "    'Connection':'keep-alive',\n",
    "    'User-Agent': 'Mozilla/5.0 (Windows NT 10.0; Win64; x64) AppleWebKit/537.36 (KHTML, like Gecko) Chrome/78.0.3904.70 Safari/537.36',\n",
    "    'Accept':'*/*'\n",
    "    # 'Referer':'http://202.119.25.2/a79.htm?UserIP=121.248.50.43&wlanacname=jlh_me60'\n",
    "}\n",
    "# 构造url全链接\n",
    "url = Host+\"/eportal/?c=\"+dataForm['c']+\"&a=\"+dataForm['a']+\"&callback=\"+dataForm['callback']+\"&login_method=\"+dataForm['login_method']+\"&user_account=%2C0%2C\"+userName+\"&user_password=\"+password+\"&wlan_user_ip=\"+ip+\"&wlan_user_ipv6=&wlan_user_mac=000000000000&wlan_ac_ip=&wlan_ac_name=jlh_me60&jsVersion=3.3.2&v=\"+dataForm['v']\n",
    "\n",
    "req2 = requests.get(url, headers=headers)\n",
    "\n",
    "# 检测关键字段是否在返回文本中，判断响应是否成功\n",
    "# dr1003({\"result\":\"1\",\"msg\":\"\\u8ba4\\u8bc1\\u6210\\u529f\"})\n",
    "# b\"\\u8ba4\\u8bc1\\u6210\\u529f\".decode('unicode-escape')\n",
    "# '认证成功'\n",
    "if(\"\\\\u8ba4\\\\u8bc1\\\\u6210\\\\u529f\" in req2.text):\n",
    "    print(\"Connection sucessful!\")\n",
    "else:\n",
    "    print(\"Connection failed.\")\n"
   ]
  },
  {
   "cell_type": "markdown",
   "metadata": {},
   "source": [
    "# Test Part"
   ]
  },
  {
   "cell_type": "code",
   "execution_count": 128,
   "metadata": {},
   "outputs": [],
   "source": [
    "req1 = requests.get(\"https://w.seu.edu.cn/\")"
   ]
  },
  {
   "cell_type": "code",
   "execution_count": 137,
   "metadata": {},
   "outputs": [],
   "source": [
    "pattern = re.compile(\"ip='(.*?)'\")  # “？”最短匹配\n",
    "comp = re.compile(r\"(([01]?\\d?\\d|2[0-4]\\d|25[0-5]\\d)\\.){3}([01]?\\d?\\d|2[0-4]\\d|25[0-5]\\d)\")\n",
    "result = pattern.findall(req1.text)\n"
   ]
  },
  {
   "cell_type": "code",
   "execution_count": 141,
   "metadata": {},
   "outputs": [
    {
     "data": {
      "text/plain": [
       "'121.248.51.115'"
      ]
     },
     "execution_count": 141,
     "metadata": {},
     "output_type": "execute_result"
    }
   ],
   "source": [
    "ip"
   ]
  },
  {
   "cell_type": "code",
   "execution_count": 135,
   "metadata": {},
   "outputs": [],
   "source": [
    "from bs4 import BeautifulSoup\n",
    "soup = BeautifulSoup(req1.text, \"html.parser\")"
   ]
  },
  {
   "cell_type": "code",
   "execution_count": 136,
   "metadata": {},
   "outputs": [
    {
     "data": {
      "text/plain": [
       "<!DOCTYPE html PUBLIC \"-//W3C//DTD XHTML 1.0 Strict//EN\" \"http://www.w3.org/TR/xhtml1/DTD/xhtml1-strict.dtd\">\n",
       "\n",
       "<html xmlns=\"http://www.w3.org/1999/xhtml\">\n",
       "<head>\n",
       "<meta content=\"text/html; charset=utf-8\" http-equiv=\"Content-Type\"/>\n",
       "<meta content=\"target-densitydpi=device-dpi,width=640px,user-scalable=1\" id=\"viewport\" name=\"viewport\"/>\n",
       "<meta content=\"webkit\" name=\"renderer\">\n",
       "<meta content=\"IE=9; IE=8; IE=7; IE=EDGE\" http-equiv=\"X-UA-Compatible\"/>\n",
       "<title>上网登录页</title>\n",
       "<!--Dr.COMWebLoginID_0.htm-->\n",
       "<script type=\"text/javascript\">\n",
       "sv=0;sv1=0;v6='http://[::]:9002/v6                                     ';myv6ip='                                       ';v4serip='202.119.25.2'   ;m46=0;v46ip='121.248.51.115'                         ;\n",
       "vid=0   ;mip=121248051115;Gno=0000;vlanid=\"0\"   ;AC=\"\";                          ipm=\"ca771902\";ss1=\"000d4846bf53\";ss2=\"0000\";ss3=\"79f83373\";ss4=\"000000000000\";ss5=\"121.248.51.115\" ;ss6=\"202.119.25.2\"   ;timet=1573213861; \n",
       "osele=0;//1=不弹窗\n",
       "domain='[::]';// ////////////////////////////////////////\n",
       "zxopt=0;//1为普通，8为直通(需201606后的内核)\n",
       "hidm=0,hidn=0;/////\n",
       "aolno=22542;//////\n",
       "wopt=0;\n",
       "eport=1,eclass=1;///\n",
       "</script>\n",
       "<script type=\"text/javascript\">\n",
       "/** 哆点参数 start */\n",
       "//1.基本参数\n",
       "portalid='';//门户ID\n",
       "portalname='';//门户名称\n",
       "//2.可选参数\n",
       "portalver='';//门户版本\n",
       "serialno='';//序列号\n",
       "logourl='';//门户logo\n",
       "bannerurl='';//横幅广告\n",
       "welcome='';//欢迎词\n",
       "businessurl='';//业务接口\n",
       "//3.旁路参数\n",
       "authexenable='0';//是否启用旁路扩展模式\n",
       "authtype=1;//登录协议\n",
       "authloginIP='';//登录IP\n",
       "authloginport=801;//登录端口\n",
       "authloginpath='/eportal/?c=ACSetting&a=Login';//登录路径\n",
       "authloginparam=''; //登录参数\n",
       "authuserfield='DDDDD';//账号节点\n",
       "authpassfield='upass';//密码节点\n",
       "terminalidentity=1;//终端识别标识 先配置成填写\n",
       "authlogouttype=1;//注销协议\n",
       "authlogoutIP='';//注销IP\n",
       "authlogoutport=80;//注销端口\n",
       "authlogoutpath='/eportal/?c=ACSetting&a=Logout&ver=1.0';//注销路径\n",
       "authlogoutparam='';//注销参数\n",
       "authlogoutpost='';//注销post参数\n",
       "querydelay=0;//登录后延时查询网络状态\n",
       "querytype=1;//状态查询协议\n",
       "queryIP='';//状态查询IP\t\n",
       "queryport=80;//状态查询端口\n",
       "querypost='';//状态查询post参数\n",
       "querypath='/eportal/?c=ACSetting&a=Query';//状态查询路径\n",
       "queryparam='';//状态查询参数\n",
       "authsuccess='Dr.COMWebLoginID_3.htm';//登录成功标志\n",
       "authfail='Dr.COMWebLoginID_2.htm';//登录失败标志\n",
       "isquery=0;\n",
       "authhost='';\n",
       "authoffpost='';\n",
       "charset='gb2312';//页面编码\n",
       "exparam=0;//扩展标志位\n",
       "//4.运营商选择\n",
       "carrier='{\"yys\":{\"title\":\"服务类型\",\"mode\":\"radiobutton\",\"data\":[{\"id\":\"1\",\"name\":\"校园用户\",\"suffix\":\"@xyw\"},{\"id\":\"2\",\"name\":\"校园电信\",\"suffix\":\"@dx\"},{\"id\":\"3\",\"name\":\"校园联通\",\"suffix\":\"@lt\"},{\"id\":\"4\",\"name\":\"校园其他\",\"suffix\":\"\"}],\"defaultID\":\"1\"}}';//运营商选择\n",
       "//5.限制非哆点客户端登陆\n",
       "//把原先Dr.COMWebLoginID_ 改成: Dr.COM1.0WebLoginID_\n",
       "/** 哆点参数 end */\n",
       "</script>\n",
       "<!-- 基本样式 -->\n",
       "<link href=\"b80.css\" rel=\"stylesheet\" type=\"text/css\"/>\n",
       "<script>\n",
       "var fileVersion=\"1571821237672\";\n",
       "/* 基本处理 */\n",
       "document.write('<script src=\"a41.js?version='+fileVersion+'\"><\\/script>');\n",
       "</script>\n",
       "</meta></head>\n",
       "<body>\n",
       "</body>\n",
       "<script type=\"text/javascript\">\n",
       "\tpage.run();\n",
       "</script>\n",
       "</html>"
      ]
     },
     "execution_count": 136,
     "metadata": {},
     "output_type": "execute_result"
    }
   ],
   "source": [
    "soup"
   ]
  },
  {
   "cell_type": "code",
   "execution_count": null,
   "metadata": {},
   "outputs": [],
   "source": []
  }
 ],
 "metadata": {
  "kernelspec": {
   "display_name": "Python 3",
   "language": "python",
   "name": "python3"
  },
  "language_info": {
   "codemirror_mode": {
    "name": "ipython",
    "version": 3
   },
   "file_extension": ".py",
   "mimetype": "text/x-python",
   "name": "python",
   "nbconvert_exporter": "python",
   "pygments_lexer": "ipython3",
   "version": "3.7.3"
  }
 },
 "nbformat": 4,
 "nbformat_minor": 2
}
